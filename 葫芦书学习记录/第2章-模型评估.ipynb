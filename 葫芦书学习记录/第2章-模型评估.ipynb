{
 "cells": [
  {
   "cell_type": "markdown",
   "metadata": {},
   "source": [
    "<font color=#FF0000>**1、有哪些模型评价指标**:</font><br>\n",
    "准确率、精确率、召回率、PR曲线、F1、均方误差、ROC曲线"
   ]
  },
  {
   "cell_type": "markdown",
   "metadata": {},
   "source": [
    "<font color=#FF0000>**2、准确率accuracy的缺陷**:</font><br>\n",
    "以**分类**为例，准确率是指分类正确的样本在样本整体中的**占比**。当**类别不均衡**比较严重时，多数类别<br>\n",
    "往往成为影响准确率的主要因素。这会导致样本整体的准确率比较高，但是**某一类别的准确率较低**。<br>\n",
    "一种**缓解**的办法是平均类别准确率。<br>"
   ]
  },
  {
   "cell_type": "markdown",
   "metadata": {},
   "source": [
    "<font color=#FF0000>**3、精确率和召回率的权衡**:</font><br>\n",
    "**精确率**：**分类正确**的正样本的数目/**分类为**正样本的数目，是一个保守指标，因为如果想获<br>\n",
    "得较高的精确率，模型完全可以把最有把握的正样本分类正确，其他的样本分为负类，那么分类精确率<br>\n",
    "为100%。但是，这时的召回率显然很低(约等于0)<br>\n",
    "**召回率**：**分类正确**的正样本数目/**真正的**正样本数目，是一个比较激进的指标，如果想获得较高的<br>\n",
    "召回率，模型完全可以把所有的样本判别为正类，那么这时的召回率为100%，但是显然精确率很低(就是N(1)/N)<br>\n",
    "显然，这两个评价指标有对立的一面，为了综合评估模型的性能，就有了**F1和PR曲线、roc曲线**。<br>\n",
    "**F1**：2*precison**recall/(precision+recall):解释：假如两者的和是一定的，两者越接近分母越大<br>"
   ]
  },
  {
   "cell_type": "markdown",
   "metadata": {},
   "source": [
    "<font color=#FF0000>**4、PR曲线的绘制**:</font><br>\n",
    "横轴是召回率，纵轴是精确率。选择一个阈值就可以得到一个p和一个r，选择不同的阈值，就可以画出p-r曲线。"
   ]
  },
  {
   "cell_type": "markdown",
   "metadata": {},
   "source": [
    "<font color=#FF0000>**5、均方误差与离群点**:</font><br>\n",
    "均方误差经常被用来评价回归模型的性能，其定义为：<br>\n",
    "但是，假如数据存在离群点，会导致指标下降很大，一种解决办法是对error归一化，也就是平均绝对百分比误差<br>"
   ]
  },
  {
   "cell_type": "markdown",
   "metadata": {},
   "source": [
    "<font color=#FF0000>**6、ROC、AUC(Area_Under_Curve)**:</font><br>\n",
    "**FP**：被误分为正样本的个数(label为0)<br>\n",
    "**TP**：分类正确的正样本数目(label为1)<br>\n",
    "**FPR**：负样本分错率,分母是负样本数目N<br>\n",
    "**TPR**：正样本分对率，分母是正样本数目P<br>\n",
    "**ROC曲线的绘制方法**，也是不断的改变阈值来得到一个点（大于阈值判为正例，小于阈值判为负例），然后逐渐绘制成的。如下图所示：<br>\n",
    "当阈值为inf时，所有样本判别为负样本得到坐标(0,0)<br>\n",
    "当阈值很小时，全部判别为正样本，纵坐标即召回率为1，负样本全部分错,假阳性也为1，得到坐标(1,1)<br>\n",
    "随着阈值减小，两个坐标都是非降的，所以曲线朝右上爬升。<br>\n",
    "**AUC计算**:对于二值分类在0.5-1之间，否则将p反转即可，具体由积分计算。"
   ]
  },
  {
   "cell_type": "markdown",
   "metadata": {},
   "source": [
    "<font color=#FF0000>****7、ROC与PR曲线对比****:</font><br>\n",
    "在特定数据集上，两者都可以用，但是当数据变化导致正负样本分布变化时，ROC基本不变，但是PR却变化明显，这就使得ROC的应用范围更广。<br>\n",
    "本质原因在于分母不同(例如测试集把负样本增加10倍为例分析)"
   ]
  },
  {
   "cell_type": "markdown",
   "metadata": {},
   "source": [
    "<font color=#FF0000>**8、模型评估中，有哪些主要的验证方法，优缺点分析？**:</font><br>\n",
    "**1、hold_out检验**：将数据集随机切分<br>\n",
    "**2、K-fold**交叉验证<br>\n",
    "**3、自助法**：当数据集比较小，或者想维持数据规模的时候，可以采取自助采样方法，当N趋于无穷大的时候，越有0.368的数据未被采样到。<br>"
   ]
  },
  {
   "cell_type": "markdown",
   "metadata": {},
   "source": [
    "<font color=#FF0000>**9、超参数调优方法有哪些？**:</font><br>\n",
    "网格搜索、随机搜索<br>\n",
    "贝叶斯搜索(探索和利用):超参数通过样本值由先验过渡到后验分布。<br>"
   ]
  },
  {
   "cell_type": "markdown",
   "metadata": {},
   "source": [
    "<font color=#FF0000>**10、过拟合缓解办法**:</font><br>\n",
    "数据扩增、正则化、降低层数或者神经元个数"
   ]
  },
  {
   "cell_type": "code",
   "execution_count": null,
   "metadata": {},
   "outputs": [],
   "source": []
  }
 ],
 "metadata": {
  "kernelspec": {
   "display_name": "Python 3",
   "language": "python",
   "name": "python3"
  },
  "language_info": {
   "codemirror_mode": {
    "name": "ipython",
    "version": 3
   },
   "file_extension": ".py",
   "mimetype": "text/x-python",
   "name": "python",
   "nbconvert_exporter": "python",
   "pygments_lexer": "ipython3",
   "version": "3.6.2"
  }
 },
 "nbformat": 4,
 "nbformat_minor": 4
}
